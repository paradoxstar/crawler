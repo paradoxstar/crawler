{
 "cells": [
  {
   "cell_type": "code",
   "execution_count": 1,
   "metadata": {
    "collapsed": true
   },
   "outputs": [],
   "source": [
    "import os\n",
    "import re\n",
    "import urllib2  \n",
    "import sqlite3\n",
    "import random\n",
    "import threading\n",
    "from bs4 import BeautifulSoup                                                                        \n",
    "import json\n",
    "import time\n",
    " \n",
    "import sys \n",
    "reload(sys)\n",
    "sys.setdefaultencoding(\"utf-8\")"
   ]
  },
  {
   "cell_type": "code",
   "execution_count": 2,
   "metadata": {
    "collapsed": false
   },
   "outputs": [],
   "source": [
    "#Some User Agents\n",
    "hds=[{'User-Agent':'Mozilla/5.0 (X11; Linux x86_64) AppleWebKit/537.36 (KHTML, like Gecko) Chrome/45.0.2454.101 Safari/537.36'},\\\n",
    "    {'User-Agent':'Mozilla/5.0 (Windows; U; Windows NT 6.1; en-US; rv:1.9.1.6) Gecko/20091201 Firefox/3.5.6'},\\\n",
    "    {'User-Agent':'Mozilla/5.0 (Windows NT 6.2) AppleWebKit/535.11 (KHTML, like Gecko) Chrome/17.0.963.12 Safari/535.11'},\\\n",
    "    {'User-Agent':'Mozilla/5.0 (compatible; MSIE 10.0; Windows NT 6.2; Trident/6.0)'},\\\n",
    "    {'User-Agent':'Mozilla/5.0 (X11; Ubuntu; Linux x86_64; rv:34.0) Gecko/20100101 Firefox/34.0'},\\\n",
    "    {'User-Agent':'Mozilla/5.0 (X11; Linux x86_64) AppleWebKit/537.36 (KHTML, like Gecko) Ubuntu Chromium/44.0.2403.89 Chrome/44.0.2403.89 Safari/537.36'},\\\n",
    "    {'User-Agent':'Mozilla/5.0 (Macintosh; U; Intel Mac OS X 10_6_8; en-us) AppleWebKit/534.50 (KHTML, like Gecko) Version/5.1 Safari/534.50'},\\\n",
    "    {'User-Agent':'Mozilla/5.0 (Windows; U; Windows NT 6.1; en-us) AppleWebKit/534.50 (KHTML, like Gecko) Version/5.1 Safari/534.50'},\\\n",
    "    {'User-Agent':'Mozilla/5.0 (compatible; MSIE 9.0; Windows NT 6.1; Trident/5.0'},\\\n",
    "    {'User-Agent':'Mozilla/5.0 (Macintosh; Intel Mac OS X 10.6; rv:2.0.1) Gecko/20100101 Firefox/4.0.1'},\\\n",
    "    {'User-Agent':'Mozilla/5.0 (Windows NT 6.1; rv:2.0.1) Gecko/20100101 Firefox/4.0.1'},\\\n",
    "    {'User-Agent':'Mozilla/5.0 (Macintosh; Intel Mac OS X 10_7_0) AppleWebKit/535.11 (KHTML, like Gecko) Chrome/17.0.963.56 Safari/535.11'},\\\n",
    "    {'User-Agent':'Opera/9.80 (Macintosh; Intel Mac OS X 10.6.8; U; en) Presto/2.8.131 Version/11.11'},\\\n",
    "    {'User-Agent':'Opera/9.80 (Windows NT 6.1; U; en) Presto/2.8.131 Version/11.11'}\\\n",
    "    ]"
   ]
  },
  {
   "cell_type": "code",
   "execution_count": 3,
   "metadata": {
    "collapsed": true
   },
   "outputs": [],
   "source": [
    " \n",
    "last = 'last'\n",
    "done = 0\n",
    "    \n",
    "if os.path.exists(last):\n",
    "    done = int(open(last, 'r').read(1000))\n",
    "    print 'last', done\n",
    "    \n",
    "#xq_list=db_xq.fetchall()\n",
    "xq_list=[]\n",
    "xq = open(\"xq_trade_list_11_1_from_dong.txt\", \"r\")\n",
    "for line in xq:\n",
    "    xq_list.append(line.strip('\\r\\n'))\n",
    "                \n",
    "xq.close()\n",
    "total = len(xq_list)\n",
    "rest = total - done\n"
   ]
  },
  {
   "cell_type": "code",
   "execution_count": 4,
   "metadata": {
    "collapsed": false
   },
   "outputs": [],
   "source": [
    "print xq_list[0]\n",
    "print \"total number of xiaoqu is %d\" % total"
   ]
  },
  {
   "cell_type": "code",
   "execution_count": 5,
   "metadata": {
    "collapsed": true
   },
   "outputs": [],
   "source": [
    "url=u\"http://bj.lianjia.com/chengjiao/rs\"+urllib2.quote(xq_list[0])+\"/\""
   ]
  },
  {
   "cell_type": "code",
   "execution_count": 6,
   "metadata": {
    "collapsed": true
   },
   "outputs": [],
   "source": [
    "req = urllib2.Request(url,headers=hds[random.randint(0,len(hds)-1)])\n",
    "source_code = urllib2.urlopen(req,timeout=10).read()\n",
    "plain_text=unicode(source_code)#,errors='ignore')   \n",
    "soup = BeautifulSoup(plain_text)"
   ]
  },
  {
   "cell_type": "code",
   "execution_count": 7,
   "metadata": {
    "collapsed": false
   },
   "outputs": [],
   "source": [
    "pagebox = soup.find('div',{'class':'page-box house-lst-page-box'})"
   ]
  },
  {
   "cell_type": "code",
   "execution_count": 8,
   "metadata": {
    "collapsed": false
   },
   "outputs": [
    {
     "data": {
      "text/plain": [
       "<div class=\"page-box house-lst-page-box\" comp-module=\"page\" page-data='{\"totalPage\":16,\"curPage\":1}' page-url=\"/chengjiao/pg{page}rs10AM%E6%96%B0%E5%9D%90%E6%A0%87/\"></div>"
      ]
     },
     "execution_count": 8,
     "metadata": {},
     "output_type": "execute_result"
    }
   ],
   "source": [
    "pagebox"
   ]
  },
  {
   "cell_type": "code",
   "execution_count": 9,
   "metadata": {
    "collapsed": true
   },
   "outputs": [],
   "source": [
    "print url\n"
   ]
  },
  {
   "cell_type": "code",
   "execution_count": 10,
   "metadata": {
    "collapsed": false
   },
   "outputs": [],
   "source": [
    "l = pagebox['page-data'].find(':')   \n",
    "r = pagebox['page-data'].find(',')   \n",
    "pagenum = int(pagebox['page-data'][l+1:r])"
   ]
  },
  {
   "cell_type": "code",
   "execution_count": 11,
   "metadata": {
    "collapsed": false
   },
   "outputs": [
    {
     "data": {
      "text/plain": [
       "16"
      ]
     },
     "execution_count": 11,
     "metadata": {},
     "output_type": "execute_result"
    }
   ],
   "source": [
    "pagenum"
   ]
  },
  {
   "cell_type": "code",
   "execution_count": 12,
   "metadata": {
    "collapsed": false
   },
   "outputs": [],
   "source": [
    "url=u\"http://bj.lianjia.com/chengjiao/pg1rs\"+urllib2.quote(xq_list[0])+\"/\""
   ]
  },
  {
   "cell_type": "code",
   "execution_count": 13,
   "metadata": {
    "collapsed": true
   },
   "outputs": [],
   "source": [
    "req = urllib2.Request(url,headers=hds[random.randint(0,len(hds)-1)])\n",
    "source_code = urllib2.urlopen(req,timeout=10).read()\n",
    "plain_text=unicode(source_code)#,errors='ignore')   \n",
    "soup = BeautifulSoup(plain_text)"
   ]
  },
  {
   "cell_type": "code",
   "execution_count": 14,
   "metadata": {
    "collapsed": false
   },
   "outputs": [],
   "source": [
    "thispagelist = soup.find('ul',{'class':'listContent'}).findAll('li')"
   ]
  },
  {
   "cell_type": "code",
   "execution_count": 15,
   "metadata": {
    "collapsed": false
   },
   "outputs": [
    {
     "data": {
      "text/plain": [
       "<li><a class=\"img\" href=\"http://bj.lianjia.com/chengjiao/101100701350.html\" rel=\"nofollow\" target=\"_blank\"><img alt=\"10AM\\u65b0\\u5750\\u6807 1\\u5ba40\\u5385 43\\u5e73\\u7c73\" class=\"lj-lazy\" data-original=\"\" src=\"http://static1.ljcdn.com/pc/asset/img/new-version/default_block.png?_v=20161103200938\"/></a><div class=\"info\"><div class=\"title\"><a href=\"http://bj.lianjia.com/chengjiao/101100701350.html\" target=\"_blank\">10AM\\u65b0\\u5750\\u6807 1\\u5ba40\\u5385 43\\u5e73\\u7c73</a></div><div class=\"address\"><div class=\"houseInfo\"><span class=\"houseIcon\"></span>\\u5357 | \\u7cbe\\u88c5\\xa0| \\u6709\\u7535\\u68af</div><div class=\"dealDate\">2016.10.16</div><div class=\"totalPrice\"><span class=\"number\">285</span>\\u4e07</div></div><div class=\"flood\"><div class=\"positionInfo\"><span class=\"positionIcon\"></span>\\u4e2d\\u697c\\u5c42(\\u517125\\u5c42) 2006\\u5e74\\u5efa\\u5854\\u697c</div><div class=\"source\">\\u94fe\\u5bb6\\u6210\\u4ea4</div><div class=\"unitPrice\"><span class=\"number\">66589</span>\\u5143/\\u5e73</div></div><div class=\"dealHouseInfo\"><span class=\"dealHouseIcon\"></span><span class=\"dealHouseTxt\"><span>\\u8ddd14\\u53f7\\u7ebf(\\u4e1c\\u6bb5)\\u65b9\\u5e84500\\u7c73</span></span></div><a class=\"dealRecord\" href=\"http://bj.lianjia.com/chengjiao/101100701350.html#am-nav\" target=\"_blank\">\\u67e5\\u770b\\u540c\\u6237\\u578b\\u6210\\u4ea4\\u8bb0\\u5f55</a></div></li>"
      ]
     },
     "execution_count": 15,
     "metadata": {},
     "output_type": "execute_result"
    }
   ],
   "source": [
    "thispagelist[0]"
   ]
  },
  {
   "cell_type": "code",
   "execution_count": 16,
   "metadata": {
    "collapsed": true
   },
   "outputs": [],
   "source": [
    "info_dict={}"
   ]
  },
  {
   "cell_type": "code",
   "execution_count": 17,
   "metadata": {
    "collapsed": false
   },
   "outputs": [],
   "source": [
    "title = thispagelist[0].find('div',{'class':'title'})"
   ]
  },
  {
   "cell_type": "code",
   "execution_count": 18,
   "metadata": {
    "collapsed": false
   },
   "outputs": [
    {
     "data": {
      "text/plain": [
       "<div class=\"title\"><a href=\"http://bj.lianjia.com/chengjiao/101100701350.html\" target=\"_blank\">10AM\\u65b0\\u5750\\u6807 1\\u5ba40\\u5385 43\\u5e73\\u7c73</a></div>"
      ]
     },
     "execution_count": 18,
     "metadata": {},
     "output_type": "execute_result"
    }
   ],
   "source": [
    "title"
   ]
  },
  {
   "cell_type": "code",
   "execution_count": 19,
   "metadata": {
    "collapsed": false
   },
   "outputs": [
    {
     "data": {
      "text/plain": [
       "u'10AM\\u65b0\\u5750\\u6807 1\\u5ba40\\u5385 43\\u5e73\\u7c73'"
      ]
     },
     "execution_count": 19,
     "metadata": {},
     "output_type": "execute_result"
    }
   ],
   "source": [
    "print title.a['href']\n",
    "title.text"
   ]
  },
  {
   "cell_type": "code",
   "execution_count": 20,
   "metadata": {
    "collapsed": false
   },
   "outputs": [],
   "source": [
    "info_dict[u'href'] = unicode(title.a['href'])\n",
    "info_dict[u'name'] = title.text"
   ]
  },
  {
   "cell_type": "code",
   "execution_count": 21,
   "metadata": {
    "collapsed": false
   },
   "outputs": [
    {
     "data": {
      "text/plain": [
       "{u'href': u'http://bj.lianjia.com/chengjiao/101100701350.html',\n",
       " u'name': u'10AM\\u65b0\\u5750\\u6807 1\\u5ba40\\u5385 43\\u5e73\\u7c73'}"
      ]
     },
     "execution_count": 21,
     "metadata": {},
     "output_type": "execute_result"
    }
   ],
   "source": [
    "info_dict"
   ]
  },
  {
   "cell_type": "code",
   "execution_count": 22,
   "metadata": {
    "collapsed": false
   },
   "outputs": [],
   "source": [
    "houseinfo = thispagelist[0].find('div',{'class':'houseInfo'})"
   ]
  },
  {
   "cell_type": "code",
   "execution_count": 23,
   "metadata": {
    "collapsed": false
   },
   "outputs": [
    {
     "data": {
      "text/plain": [
       "<div class=\"houseInfo\"><span class=\"houseIcon\"></span>\\u5357 | \\u7cbe\\u88c5\\xa0| \\u6709\\u7535\\u68af</div>"
      ]
     },
     "execution_count": 23,
     "metadata": {},
     "output_type": "execute_result"
    }
   ],
   "source": [
    "houseinfo"
   ]
  },
  {
   "cell_type": "code",
   "execution_count": 24,
   "metadata": {
    "collapsed": true
   },
   "outputs": [],
   "source": [
    "dealdate = thispagelist[0].find('div',{'class':'dealDate'})"
   ]
  },
  {
   "cell_type": "code",
   "execution_count": 25,
   "metadata": {
    "collapsed": false
   },
   "outputs": [
    {
     "data": {
      "text/plain": [
       "<div class=\"dealDate\">2016.10.16</div>"
      ]
     },
     "execution_count": 25,
     "metadata": {},
     "output_type": "execute_result"
    }
   ],
   "source": [
    "dealdate"
   ]
  },
  {
   "cell_type": "code",
   "execution_count": 26,
   "metadata": {
    "collapsed": true
   },
   "outputs": [],
   "source": [
    "print houseinfo.text\n",
    "print dealdate.text"
   ]
  },
  {
   "cell_type": "code",
   "execution_count": 27,
   "metadata": {
    "collapsed": true
   },
   "outputs": [],
   "source": [
    "hi = houseinfo.text.replace(' ', '').split('|')"
   ]
  },
  {
   "cell_type": "code",
   "execution_count": 28,
   "metadata": {
    "collapsed": false
   },
   "outputs": [],
   "source": [
    "print hi[0]\n",
    "print hi[1]\n",
    "print hi[2]"
   ]
  },
  {
   "cell_type": "code",
   "execution_count": 29,
   "metadata": {
    "collapsed": true
   },
   "outputs": [],
   "source": [
    "orientation = hi[0]\n",
    "decoration = hi[1]\n",
    "elevator = hi[2]"
   ]
  },
  {
   "cell_type": "code",
   "execution_count": 30,
   "metadata": {
    "collapsed": true
   },
   "outputs": [],
   "source": [
    "info_dict[u'orientation'] = orientation\n",
    "info_dict[u'decoration'] = decoration\n",
    "info_dict[u'elevator'] = elevator\n",
    "info_dict[u'dealdate'] = dealdate.text"
   ]
  },
  {
   "cell_type": "code",
   "execution_count": 31,
   "metadata": {
    "collapsed": false
   },
   "outputs": [
    {
     "data": {
      "text/plain": [
       "{u'dealdate': u'2016.10.16',\n",
       " u'decoration': u'\\u7cbe\\u88c5\\xa0',\n",
       " u'elevator': u'\\u6709\\u7535\\u68af',\n",
       " u'href': u'http://bj.lianjia.com/chengjiao/101100701350.html',\n",
       " u'name': u'10AM\\u65b0\\u5750\\u6807 1\\u5ba40\\u5385 43\\u5e73\\u7c73',\n",
       " u'orientation': u'\\u5357'}"
      ]
     },
     "execution_count": 31,
     "metadata": {},
     "output_type": "execute_result"
    }
   ],
   "source": [
    "info_dict"
   ]
  },
  {
   "cell_type": "code",
   "execution_count": 32,
   "metadata": {
    "collapsed": true
   },
   "outputs": [],
   "source": [
    "source = thispagelist[0].find('div',{'class':'source'})"
   ]
  },
  {
   "cell_type": "code",
   "execution_count": 33,
   "metadata": {
    "collapsed": false
   },
   "outputs": [
    {
     "data": {
      "text/plain": [
       "<div class=\"source\">\\u94fe\\u5bb6\\u6210\\u4ea4</div>"
      ]
     },
     "execution_count": 33,
     "metadata": {},
     "output_type": "execute_result"
    }
   ],
   "source": [
    "source"
   ]
  },
  {
   "cell_type": "code",
   "execution_count": 34,
   "metadata": {
    "collapsed": false
   },
   "outputs": [],
   "source": [
    "info_dict[u'source'] = source.text"
   ]
  },
  {
   "cell_type": "code",
   "execution_count": null,
   "metadata": {
    "collapsed": true
   },
   "outputs": [],
   "source": []
  },
  {
   "cell_type": "code",
   "execution_count": null,
   "metadata": {
    "collapsed": true
   },
   "outputs": [],
   "source": []
  },
  {
   "cell_type": "code",
   "execution_count": 39,
   "metadata": {
    "collapsed": true
   },
   "outputs": [],
   "source": [
    "ref = thispagelist[0].a['href']"
   ]
  },
  {
   "cell_type": "code",
   "execution_count": 40,
   "metadata": {
    "collapsed": true
   },
   "outputs": [],
   "source": [
    "req = urllib2.Request(ref,headers=hds[random.randint(0,len(hds)-1)])\n",
    "source_code = urllib2.urlopen(req,timeout=10).read()\n",
    "plain_text=unicode(source_code)#,errors='ignore')   \n",
    "soup = BeautifulSoup(plain_text)"
   ]
  },
  {
   "cell_type": "code",
   "execution_count": 41,
   "metadata": {
    "collapsed": true
   },
   "outputs": [],
   "source": [
    "info_fr = soup.find('div', {'class': 'info fr'})"
   ]
  },
  {
   "cell_type": "code",
   "execution_count": 42,
   "metadata": {
    "collapsed": false
   },
   "outputs": [
    {
     "data": {
      "text/plain": [
       "<div class=\"info fr\"><div class=\"price\"><span class=\"dealTotalPrice\"><i>98</i>\\u4e07</span><b>22242</b>\\u5143/\\u5e73\\u7c73</div><div class=\"msg\"><span class=\"sp01\"><label>1\\u5ba40\\u5385</label>\\u4e2d\\u697c\\u5c42(\\u517129\\u5c42)</span><span class=\"sp02\"><label>\\u5357</label>\\u6682\\u65e0\\u6570\\u636e</span><span class=\"sp03\"><label>44\\u5e73\\u7c73</label>2006\\u5e74\\u5efa\\u5854\\u697c</span></div><div class=\"tag\"><span>\\u8ddd14\\u53f7\\u7ebf(\\u4e1c\\u6bb5)\\u65b9\\u5e84\\u7ad9476\\u7c73</span></div><p><a class=\"name\" href=\"/xiaoqu/1111027375552\">10AM\\u65b0\\u5750\\u6807</a>-<a href=\"/chengjiao/chaoyang/\">\\u671d\\u9633</a><a href=\"/chengjiao/fangzhuang1/\">\\u65b9\\u5e84</a></p><p>\\u76ee\\u524d\\u6709 <a class=\"name\" href=\"/ershoufang/c1111027375552/\">21\\u5957\\u623f\\u6e90</a> \\u51fa\\u552e\\u4e2d\\uff0c\\u6302\\u724c\\u5747\\u4ef769728\\u5143/\\u5e73</p><div class=\"agent\" log-mod=\"chengjiao_detail_diamond-first\"><a href=\"http://20249302.dianpu.lianjia.com\"><img class=\"fl LOGVIEW LOGCLICK\" data-bl=\"agent\" data-el=\"1000000020249302\" data-log_id=\"20001\" src=\"http://image1.ljcdn.com/usercenter/images/uc_ehr_avatar/b6f433e1-a64b-4e81-bf45-3139670ee7d3.jpg.120x160.jpg\"/><div class=\"fr\"><b class=\"LOGCLICK\" data-bl=\"agent\" data-el=\"1000000020249302\" data-log_id=\"20001\">\\u5f20\\u6cfd\\u6e05</b><a class=\"lianjiaim-createtalkAll LOGCLICK\" data-bl=\"agentim\" data-el=\"1000000020249302\" data-log_id=\"20001\" data-role=\"lianjiaim-createtalk\" data-ucid=\"1000000020249302\" style=\"display: none;\" title=\"\\u5728\\u7ebf\\u54a8\\u8be2\"></a><span class=\"fr\">\\u7ecf\\u7eaa\\u4eba/\\u597d\\u8bc4\\u7387:100%</span><p>\\u66f4\\u591a\\u8be5\\u623f\\u6e90\\u7684\\u6210\\u4ea4\\u4fe1\\u606f\\uff0c\\u6b22\\u8fce\\u8054\\u7cfb\\u6211\\u4e86\\u89e3</p><div class=\"tel\">4008893091 <i>\\u8f6c</i> 1273</div></div></a></div></div>"
      ]
     },
     "execution_count": 42,
     "metadata": {},
     "output_type": "execute_result"
    }
   ],
   "source": [
    "info_fr"
   ]
  },
  {
   "cell_type": "code",
   "execution_count": 43,
   "metadata": {
    "collapsed": false
   },
   "outputs": [
    {
     "data": {
      "text/plain": [
       "<div class=\"price\"><span class=\"dealTotalPrice\"><i>98</i>\\u4e07</span><b>22242</b>\\u5143/\\u5e73\\u7c73</div>"
      ]
     },
     "execution_count": 43,
     "metadata": {},
     "output_type": "execute_result"
    }
   ],
   "source": [
    "price = info_fr.find('div', {'class':'price'})\n",
    "price"
   ]
  },
  {
   "cell_type": "code",
   "execution_count": 44,
   "metadata": {
    "collapsed": true
   },
   "outputs": [],
   "source": [
    "print price.span.i.text\n",
    "print price.b.text"
   ]
  },
  {
   "cell_type": "code",
   "execution_count": 45,
   "metadata": {
    "collapsed": false
   },
   "outputs": [],
   "source": [
    "info_dict[u'totalprice']= price.span.i.text\n",
    "info_dict[u'unitprice']= price.b.text"
   ]
  },
  {
   "cell_type": "code",
   "execution_count": 46,
   "metadata": {
    "collapsed": false
   },
   "outputs": [
    {
     "data": {
      "text/plain": [
       "{u'dealdate': u'2012.02.20',\n",
       " u'decoration': u'\\u5176\\u4ed6\\xa0',\n",
       " u'elevator': u'\\u6709\\u7535\\u68af',\n",
       " u'href': u'http://bj.lianjia.com/chengjiao/BJCY84219785.html',\n",
       " u'name': u'10AM\\u65b0\\u5750\\u6807 1\\u5ba40\\u5385 44\\u5e73\\u7c73',\n",
       " u'orientation': u'\\u5357',\n",
       " u'source': u'\\u94fe\\u5bb6\\u6210\\u4ea4',\n",
       " u'totalprice': u'98',\n",
       " u'unitprice': u'22242'}"
      ]
     },
     "execution_count": 46,
     "metadata": {},
     "output_type": "execute_result"
    }
   ],
   "source": [
    "info_dict"
   ]
  },
  {
   "cell_type": "code",
   "execution_count": 47,
   "metadata": {
    "collapsed": false
   },
   "outputs": [
    {
     "data": {
      "text/plain": [
       "<div class=\"msg\"><span class=\"sp01\"><label>1\\u5ba40\\u5385</label>\\u4e2d\\u697c\\u5c42(\\u517129\\u5c42)</span><span class=\"sp02\"><label>\\u5357</label>\\u6682\\u65e0\\u6570\\u636e</span><span class=\"sp03\"><label>44\\u5e73\\u7c73</label>2006\\u5e74\\u5efa\\u5854\\u697c</span></div>"
      ]
     },
     "execution_count": 47,
     "metadata": {},
     "output_type": "execute_result"
    }
   ],
   "source": [
    "msg = info_fr.find('div', {'class':'msg'})\n",
    "msg"
   ]
  },
  {
   "cell_type": "code",
   "execution_count": 48,
   "metadata": {
    "collapsed": false
   },
   "outputs": [],
   "source": [
    "sp1 = list(msg.find('span', {'class':'sp01'}).children)\n",
    "sp2 = list(msg.find('span', {'class':'sp02'}).children)\n",
    "sp3 = list(msg.find('span', {'class':'sp03'}).children)\n",
    "print sp1[0].text\n",
    "print sp1[1]\n",
    "print sp2[0].text\n",
    "print sp2[1]\n",
    "print sp3[0].text\n",
    "print sp3[1]"
   ]
  },
  {
   "cell_type": "code",
   "execution_count": 49,
   "metadata": {
    "collapsed": true
   },
   "outputs": [],
   "source": [
    "info_dict.update({u'title': sp1[0].text})\n",
    "info_dict.update({u'floor': sp1[1]})\n",
    "info_dict.update({u'orientation': sp2[0].text})\n",
    "info_dict.update({u'nnnn': sp2[1]})\n",
    "info_dict.update({u'area': sp3[0].text})\n",
    "info_dict.update({u'buildyear': sp3[1]})"
   ]
  },
  {
   "cell_type": "code",
   "execution_count": 50,
   "metadata": {
    "collapsed": false
   },
   "outputs": [
    {
     "data": {
      "text/plain": [
       "{u'area': u'44\\u5e73\\u7c73',\n",
       " u'buildyear': u'2006\\u5e74\\u5efa\\u5854\\u697c',\n",
       " u'dealdate': u'2012.02.20',\n",
       " u'decoration': u'\\u5176\\u4ed6\\xa0',\n",
       " u'elevator': u'\\u6709\\u7535\\u68af',\n",
       " u'floor': u'\\u4e2d\\u697c\\u5c42(\\u517129\\u5c42)',\n",
       " u'href': u'http://bj.lianjia.com/chengjiao/BJCY84219785.html',\n",
       " u'name': u'10AM\\u65b0\\u5750\\u6807 1\\u5ba40\\u5385 44\\u5e73\\u7c73',\n",
       " u'nnnn': u'\\u6682\\u65e0\\u6570\\u636e',\n",
       " u'orientation': u'\\u5357',\n",
       " u'source': u'\\u94fe\\u5bb6\\u6210\\u4ea4',\n",
       " u'title': u'1\\u5ba40\\u5385',\n",
       " u'totalprice': u'98',\n",
       " u'unitprice': u'22242'}"
      ]
     },
     "execution_count": 50,
     "metadata": {},
     "output_type": "execute_result"
    }
   ],
   "source": [
    "info_dict"
   ]
  },
  {
   "cell_type": "code",
   "execution_count": null,
   "metadata": {
    "collapsed": true
   },
   "outputs": [],
   "source": []
  },
  {
   "cell_type": "code",
   "execution_count": 51,
   "metadata": {
    "collapsed": false
   },
   "outputs": [
    {
     "data": {
      "text/plain": [
       "<div class=\"tag\"><span>\\u8ddd14\\u53f7\\u7ebf(\\u4e1c\\u6bb5)\\u65b9\\u5e84\\u7ad9476\\u7c73</span></div>"
      ]
     },
     "execution_count": 51,
     "metadata": {},
     "output_type": "execute_result"
    }
   ],
   "source": [
    "tag = info_fr.find('div', {'class':'tag'})\n",
    "tag"
   ]
  },
  {
   "cell_type": "code",
   "execution_count": 52,
   "metadata": {
    "collapsed": true
   },
   "outputs": [],
   "source": [
    "print tag.text"
   ]
  },
  {
   "cell_type": "code",
   "execution_count": 53,
   "metadata": {
    "collapsed": true
   },
   "outputs": [],
   "source": [
    "info_dict.update({u'tag': tag.text})\n"
   ]
  },
  {
   "cell_type": "code",
   "execution_count": 54,
   "metadata": {
    "collapsed": false
   },
   "outputs": [
    {
     "data": {
      "text/plain": [
       "{u'area': u'44\\u5e73\\u7c73',\n",
       " u'buildyear': u'2006\\u5e74\\u5efa\\u5854\\u697c',\n",
       " u'dealdate': u'2012.02.20',\n",
       " u'decoration': u'\\u5176\\u4ed6\\xa0',\n",
       " u'elevator': u'\\u6709\\u7535\\u68af',\n",
       " u'floor': u'\\u4e2d\\u697c\\u5c42(\\u517129\\u5c42)',\n",
       " u'href': u'http://bj.lianjia.com/chengjiao/BJCY84219785.html',\n",
       " u'name': u'10AM\\u65b0\\u5750\\u6807 1\\u5ba40\\u5385 44\\u5e73\\u7c73',\n",
       " u'nnnn': u'\\u6682\\u65e0\\u6570\\u636e',\n",
       " u'orientation': u'\\u5357',\n",
       " u'source': u'\\u94fe\\u5bb6\\u6210\\u4ea4',\n",
       " u'tag': u'\\u8ddd14\\u53f7\\u7ebf(\\u4e1c\\u6bb5)\\u65b9\\u5e84\\u7ad9476\\u7c73',\n",
       " u'title': u'1\\u5ba40\\u5385',\n",
       " u'totalprice': u'98',\n",
       " u'unitprice': u'22242'}"
      ]
     },
     "execution_count": 54,
     "metadata": {},
     "output_type": "execute_result"
    }
   ],
   "source": [
    "info_dict"
   ]
  },
  {
   "cell_type": "code",
   "execution_count": 55,
   "metadata": {
    "collapsed": false
   },
   "outputs": [],
   "source": [
    "nowp = info_fr.findAll('p')\n",
    "site = list(nowp[0].children)\n",
    "onsale = nowp[1]"
   ]
  },
  {
   "cell_type": "code",
   "execution_count": 56,
   "metadata": {
    "collapsed": false
   },
   "outputs": [],
   "source": [
    "print site[0].text\n",
    "print site[2].text\n",
    "print site[3].text\n",
    "print onsale.text"
   ]
  },
  {
   "cell_type": "code",
   "execution_count": 57,
   "metadata": {
    "collapsed": true
   },
   "outputs": [],
   "source": [
    "info_dict[u'xiaoqu'] = site[0].text\n",
    "info_dict[u'region'] = site[2].text\n",
    "info_dict[u'region2'] = site[3].text\n",
    "info_dict[u'onsale'] = onsale.text"
   ]
  },
  {
   "cell_type": "code",
   "execution_count": 58,
   "metadata": {
    "collapsed": false
   },
   "outputs": [
    {
     "data": {
      "text/plain": [
       "{u'area': u'44\\u5e73\\u7c73',\n",
       " u'buildyear': u'2006\\u5e74\\u5efa\\u5854\\u697c',\n",
       " u'dealdate': u'2012.02.20',\n",
       " u'decoration': u'\\u5176\\u4ed6\\xa0',\n",
       " u'elevator': u'\\u6709\\u7535\\u68af',\n",
       " u'floor': u'\\u4e2d\\u697c\\u5c42(\\u517129\\u5c42)',\n",
       " u'href': u'http://bj.lianjia.com/chengjiao/BJCY84219785.html',\n",
       " u'name': u'10AM\\u65b0\\u5750\\u6807 1\\u5ba40\\u5385 44\\u5e73\\u7c73',\n",
       " u'nnnn': u'\\u6682\\u65e0\\u6570\\u636e',\n",
       " u'onsale': u'\\u76ee\\u524d\\u6709 21\\u5957\\u623f\\u6e90 \\u51fa\\u552e\\u4e2d\\uff0c\\u6302\\u724c\\u5747\\u4ef769728\\u5143/\\u5e73',\n",
       " u'orientation': u'\\u5357',\n",
       " u'region': u'\\u671d\\u9633',\n",
       " u'region2': u'\\u65b9\\u5e84',\n",
       " u'source': u'\\u94fe\\u5bb6\\u6210\\u4ea4',\n",
       " u'tag': u'\\u8ddd14\\u53f7\\u7ebf(\\u4e1c\\u6bb5)\\u65b9\\u5e84\\u7ad9476\\u7c73',\n",
       " u'title': u'1\\u5ba40\\u5385',\n",
       " u'totalprice': u'98',\n",
       " u'unitprice': u'22242',\n",
       " u'xiaoqu': u'10AM\\u65b0\\u5750\\u6807'}"
      ]
     },
     "execution_count": 58,
     "metadata": {},
     "output_type": "execute_result"
    }
   ],
   "source": [
    "info_dict"
   ]
  },
  {
   "cell_type": "code",
   "execution_count": null,
   "metadata": {
    "collapsed": true
   },
   "outputs": [],
   "source": []
  },
  {
   "cell_type": "code",
   "execution_count": null,
   "metadata": {
    "collapsed": true
   },
   "outputs": [],
   "source": []
  },
  {
   "cell_type": "code",
   "execution_count": null,
   "metadata": {
    "collapsed": false
   },
   "outputs": [],
   "source": []
  },
  {
   "cell_type": "code",
   "execution_count": null,
   "metadata": {
    "collapsed": false
   },
   "outputs": [],
   "source": []
  },
  {
   "cell_type": "code",
   "execution_count": null,
   "metadata": {
    "collapsed": true
   },
   "outputs": [],
   "source": []
  }
 ],
 "metadata": {
  "kernelspec": {
   "display_name": "Python 2",
   "language": "python",
   "name": "python2"
  },
  "language_info": {
   "codemirror_mode": {
    "name": "ipython",
    "version": 2
   },
   "file_extension": ".py",
   "mimetype": "text/x-python",
   "name": "python",
   "nbconvert_exporter": "python",
   "pygments_lexer": "ipython2",
   "version": "2.7.12"
  }
 },
 "nbformat": 4,
 "nbformat_minor": 1
}
